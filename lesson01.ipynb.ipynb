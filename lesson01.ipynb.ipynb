{
 "cells": [
  {
   "cell_type": "code",
   "execution_count": 1,
   "id": "a78be607-2301-49d7-96c7-33cb20eb8a2f",
   "metadata": {},
   "outputs": [
    {
     "name": "stdout",
     "output_type": "stream",
     "text": [
      "[0 2 4 6 8]\n"
     ]
    }
   ],
   "source": [
    "import numpy as np\n",
    "v = np.arange(5)\n",
    "print(v * 2)\n"
   ]
  },
  {
   "cell_type": "code",
   "execution_count": 2,
   "id": "fdd2296d-f4b8-4785-b516-8cd34e7bc1c4",
   "metadata": {},
   "outputs": [
    {
     "name": "stdout",
     "output_type": "stream",
     "text": [
      "[3.937007874015748, 7.874015748031496, 11.811023622047244]\n"
     ]
    }
   ],
   "source": [
    "# mm → inch 変換関数\n",
    "def to_inch(mm_list):\n",
    "    return [x / 25.4 for x in mm_list]\n",
    "\n",
    "print(to_inch([100, 200, 300]))  # ⇒ [3.937, 7.874, 11.811]\n"
   ]
  }
 ],
 "metadata": {
  "kernelspec": {
   "display_name": "Python 3 (ipykernel)",
   "language": "python",
   "name": "python3"
  },
  "language_info": {
   "codemirror_mode": {
    "name": "ipython",
    "version": 3
   },
   "file_extension": ".py",
   "mimetype": "text/x-python",
   "name": "python",
   "nbconvert_exporter": "python",
   "pygments_lexer": "ipython3",
   "version": "3.12.7"
  }
 },
 "nbformat": 4,
 "nbformat_minor": 5
}
